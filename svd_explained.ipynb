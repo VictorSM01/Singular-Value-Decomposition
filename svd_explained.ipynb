{
 "cells": [
  {
   "cell_type": "code",
   "execution_count": 1,
   "metadata": {},
   "outputs": [],
   "source": [
    "import numpy as np"
   ]
  },
  {
   "cell_type": "code",
   "execution_count": 2,
   "metadata": {},
   "outputs": [],
   "source": [
    "def svd_from_scratch(X):\n",
    "    \"\"\"\n",
    "    Computes the Singular Value Decomposition (SVD) of a matrix X **from scratch** \n",
    "    (without using prebuilt SVD functions).\n",
    "\n",
    "    The decomposition follows:\n",
    "        X = UΣVᴴ\n",
    "\n",
    "    where:\n",
    "    - `U` (Left singular vectors): Orthonormal matrix of shape (n, n).\n",
    "    - `Σ` (Sigma): Diagonal matrix containing singular values of shape (n, m).\n",
    "    - `Vᴴ` (Right singular vectors, transposed): Orthonormal matrix of shape (m, m).\n",
    "\n",
    "    **Steps:**\n",
    "    1. Compute `XXᴴ` and `XᴴX` (to find left and right singular vectors).\n",
    "    2. Compute eigenvalues and eigenvectors of these matrices.\n",
    "    3. Sort eigenvalues in descending order and rearrange eigenvectors accordingly.\n",
    "    4. Compute singular values as the square root of sorted eigenvalues.\n",
    "    5. Construct Σ (Sigma) matrix with singular values along the diagonal.\n",
    "\n",
    "    Parameters:\n",
    "    -----------\n",
    "    X : ndarray\n",
    "        The input matrix of shape (n, m).\n",
    "\n",
    "    Returns:\n",
    "    --------\n",
    "    U : ndarray\n",
    "        Matrix containing left singular vectors (shape: (n, n)).\n",
    "    Σ : ndarray\n",
    "        Diagonal matrix with singular values (shape: (n, m)).\n",
    "    Vᴴ : ndarray\n",
    "        Transposed right singular vectors (shape: (m, m)).\n",
    "\n",
    "    Example usage:\n",
    "    --------------\n",
    "    >>> X = np.array([[4, 0, 2], [3, -5, 1], [2, 3, 0]], dtype=float)\n",
    "    >>> U, Sigma, VT = svd_from_scratch(X)\n",
    "    >>> print(U)\n",
    "    >>> print(Sigma)\n",
    "    >>> print(VT)\n",
    "    \"\"\"\n",
    "\n",
    "\n",
    "    # Step 1: Compute XXᴴ and XᴴX\n",
    "    XXT = X @ X.T  # Left singular vectors\n",
    "    XTX = X.T @ X  # Right singular vectors\n",
    "    \n",
    "    # Step 2: Compute eigenvalues and eigenvectors\n",
    "    eigvals_U, U = np.linalg.eigh(XXT)\n",
    "    eigvals_V, V = np.linalg.eigh(XTX)\n",
    "\n",
    "    # Step 3: Sort eigenvalues and corresponding eigenvectors in descending order\n",
    "    sorted_indices_U = np.argsort(eigvals_U)[::-1]\n",
    "    sorted_indices_V = np.argsort(eigvals_V)[::-1]\n",
    "\n",
    "    U = U[:, sorted_indices_U]\n",
    "    V = V[:, sorted_indices_V]\n",
    "    \n",
    "    # Step 4: Compute singular values as square roots of sorted eigenvalues\n",
    "    singular_values = np.sqrt(np.maximum(eigvals_U[sorted_indices_U], 0))\n",
    "\n",
    "    # Step 5: Construct Σ (Sigma) matrix\n",
    "    Sigma = np.zeros_like(X, dtype=float)\n",
    "    np.fill_diagonal(Sigma, singular_values)\n",
    "\n",
    "    return U, Sigma, V.T  # V needs to be transposed for final decomposition"
   ]
  },
  {
   "cell_type": "code",
   "execution_count": 3,
   "metadata": {},
   "outputs": [
    {
     "name": "stdout",
     "output_type": "stream",
     "text": [
      "U matrix:\n",
      " [[-0.46771169  0.65837746  0.58973291]\n",
      " [-0.87373693 -0.24359178 -0.42100693]\n",
      " [ 0.13352738  0.71218128 -0.68917942]]\n",
      "Sigma matrix:\n",
      " [[6.62341414 0.         0.        ]\n",
      " [0.         4.84499147 0.        ]\n",
      " [0.         0.         0.81021153]]\n",
      "V^T matrix:\n",
      " [[-0.63788896  0.72006169 -0.27314618]\n",
      " [ 0.68670854  0.69236504  0.22149949]\n",
      " [-0.34861017  0.04627974  0.93612453]]\n",
      "\n",
      "Reconstructed X:\n",
      " [[ 4.00000000e+00  2.43353243e-15  2.00000000e+00]\n",
      " [ 3.00000000e+00 -5.00000000e+00  1.00000000e+00]\n",
      " [ 2.00000000e+00  3.00000000e+00  7.32911987e-16]]\n"
     ]
    }
   ],
   "source": [
    "# Example: Apply to a 3×3 matrix\n",
    "X = np.array([[4, 0, 2], \n",
    "              [3, -5, 1], \n",
    "              [2, 3, 0]], dtype=float)\n",
    "\n",
    "U, Sigma, VT = svd_from_scratch(X)\n",
    "\n",
    "print(\"U matrix:\\n\", U)\n",
    "print(\"Sigma matrix:\\n\", Sigma)\n",
    "print(\"V^T matrix:\\n\", VT)\n",
    "\n",
    "# Verify the decomposition\n",
    "reconstructed_X = U @ Sigma @ VT\n",
    "print(\"\\nReconstructed X:\\n\", reconstructed_X)"
   ]
  },
  {
   "cell_type": "code",
   "execution_count": null,
   "metadata": {},
   "outputs": [],
   "source": []
  }
 ],
 "metadata": {
  "kernelspec": {
   "display_name": "base",
   "language": "python",
   "name": "python3"
  },
  "language_info": {
   "codemirror_mode": {
    "name": "ipython",
    "version": 3
   },
   "file_extension": ".py",
   "mimetype": "text/x-python",
   "name": "python",
   "nbconvert_exporter": "python",
   "pygments_lexer": "ipython3",
   "version": "3.9.12"
  }
 },
 "nbformat": 4,
 "nbformat_minor": 2
}
